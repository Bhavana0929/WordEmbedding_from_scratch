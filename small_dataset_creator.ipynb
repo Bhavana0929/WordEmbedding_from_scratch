{
  "nbformat": 4,
  "nbformat_minor": 0,
  "metadata": {
    "colab": {
      "provenance": [],
      "authorship_tag": "ABX9TyPGnfToTayKyH6m2DE+o0XL",
      "include_colab_link": true
    },
    "kernelspec": {
      "name": "python3",
      "display_name": "Python 3"
    },
    "language_info": {
      "name": "python"
    }
  },
  "cells": [
    {
      "cell_type": "markdown",
      "metadata": {
        "id": "view-in-github",
        "colab_type": "text"
      },
      "source": [
        "<a href=\"https://colab.research.google.com/github/Bhavana0929/WordEmbedding_from_scratch/blob/main/small_dataset_creator.ipynb\" target=\"_parent\"><img src=\"https://colab.research.google.com/assets/colab-badge.svg\" alt=\"Open In Colab\"/></a>"
      ]
    },
    {
      "cell_type": "markdown",
      "source": [
        "# Packages"
      ],
      "metadata": {
        "id": "pIIq0zjiVMN1"
      }
    },
    {
      "cell_type": "code",
      "execution_count": 1,
      "metadata": {
        "id": "zwcPlV5tPu_3"
      },
      "outputs": [],
      "source": [
        "import random"
      ]
    },
    {
      "cell_type": "markdown",
      "source": [
        "# Creating the corpus"
      ],
      "metadata": {
        "id": "yjXXUycvVQ5I"
      }
    },
    {
      "cell_type": "code",
      "source": [
        "dog_cat_words = ['dog', 'cat', 'pet', 'house', 'animal', 'sleep', 'play']\n",
        "family_words = ['girl', 'boy', 'father', 'mother', 'family', 'house', 'marriage']\n",
        "king_queen_words = ['crown', 'queen', 'king', 'empire', 'country', 'rule', 'castle']"
      ],
      "metadata": {
        "id": "aY4J2cCrVH-Z"
      },
      "execution_count": 2,
      "outputs": []
    },
    {
      "cell_type": "code",
      "source": [
        "dog_cat_text = ''\n",
        "family_text = ''\n",
        "king_queen_text = ''\n",
        "\n",
        "for _ in range(10_000):\n",
        "    random.shuffle(dog_cat_words)\n",
        "    dog_cat_text = dog_cat_text + ' ' + ' '.join(dog_cat_words)\n",
        "    random.shuffle(family_words)\n",
        "    family_text = family_text + ' ' + ' '.join(family_words)\n",
        "    random.shuffle(king_queen_words)\n",
        "    king_queen_text = king_queen_text + ' ' + ' '.join(king_queen_words)"
      ],
      "metadata": {
        "id": "zAO2s2YwVeWg"
      },
      "execution_count": 3,
      "outputs": []
    },
    {
      "cell_type": "code",
      "source": [
        "small_corpus = dog_cat_text + ' ' + family_text + ' ' + king_queen_text"
      ],
      "metadata": {
        "id": "BbI_BmSBVpoa"
      },
      "execution_count": 4,
      "outputs": []
    },
    {
      "cell_type": "code",
      "source": [
        "# Append the shuffled words to a file\n",
        "file_name = \"small_corpus.txt\"\n",
        "with open(file_name, 'w') as file:\n",
        "    file.write(small_corpus)"
      ],
      "metadata": {
        "id": "LXVuUyWkVtpI"
      },
      "execution_count": 5,
      "outputs": []
    }
  ]
}