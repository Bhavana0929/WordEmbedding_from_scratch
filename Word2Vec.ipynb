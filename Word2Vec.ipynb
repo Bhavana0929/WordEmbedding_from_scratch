{
  "nbformat": 4,
  "nbformat_minor": 0,
  "metadata": {
    "colab": {
      "provenance": [],
      "mount_file_id": "1MPoxCZ6ecF9ZlN_oSCM8vURLu4Y1f4du",
      "authorship_tag": "ABX9TyPzR5PNcYOyMj7WYkMRZcZS",
      "include_colab_link": true
    },
    "kernelspec": {
      "name": "python3",
      "display_name": "Python 3"
    },
    "language_info": {
      "name": "python"
    }
  },
  "cells": [
    {
      "cell_type": "markdown",
      "metadata": {
        "id": "view-in-github",
        "colab_type": "text"
      },
      "source": [
        "<a href=\"https://colab.research.google.com/github/Bhavana0929/WordEmbedding_from_scratch/blob/main/Word2Vec.ipynb\" target=\"_parent\"><img src=\"https://colab.research.google.com/assets/colab-badge.svg\" alt=\"Open In Colab\"/></a>"
      ]
    },
    {
      "cell_type": "markdown",
      "source": [
        "# **Word Vectors from Scratch with Dummy and Small Corpus**"
      ],
      "metadata": {
        "id": "n2zxgUncZ3N3"
      }
    },
    {
      "cell_type": "markdown",
      "source": [
        "**Packages**"
      ],
      "metadata": {
        "id": "N9n30WGFa5F9"
      }
    },
    {
      "cell_type": "code",
      "source": [
        "import tensorflow as tf\n",
        "from tensorflow.keras import layers, models, optimizers\n",
        "from tensorflow.keras.preprocessing import sequence\n",
        "\n",
        "import nltk\n",
        "from nltk.corpus import stopwords\n",
        "from nltk.tokenize import word_tokenize\n",
        "\n",
        "import random\n",
        "\n",
        "from collections import deque\n",
        "import matplotlib.pyplot as plt\n",
        "\n",
        "import json"
      ],
      "metadata": {
        "id": "qj2qbCEHa9xK"
      },
      "execution_count": 1,
      "outputs": []
    },
    {
      "cell_type": "code",
      "source": [
        "nltk.download('punkt_tab')"
      ],
      "metadata": {
        "colab": {
          "base_uri": "https://localhost:8080/"
        },
        "id": "JHIW6sqGch4R",
        "outputId": "be985e3f-2c8c-4c87-e12f-62ca1904f90c"
      },
      "execution_count": 2,
      "outputs": [
        {
          "output_type": "stream",
          "name": "stderr",
          "text": [
            "[nltk_data] Downloading package punkt_tab to /root/nltk_data...\n",
            "[nltk_data]   Package punkt_tab is already up-to-date!\n"
          ]
        },
        {
          "output_type": "execute_result",
          "data": {
            "text/plain": [
              "True"
            ]
          },
          "metadata": {},
          "execution_count": 2
        }
      ]
    },
    {
      "cell_type": "code",
      "source": [
        "nltk.download('punkt')\n",
        "nltk.download('stopwords')"
      ],
      "metadata": {
        "colab": {
          "base_uri": "https://localhost:8080/"
        },
        "id": "gwXad_l8bE3z",
        "outputId": "eb9f66f4-5e2b-4ea5-ad9e-0d200a40d572"
      },
      "execution_count": 3,
      "outputs": [
        {
          "output_type": "stream",
          "name": "stderr",
          "text": [
            "[nltk_data] Downloading package punkt to /root/nltk_data...\n",
            "[nltk_data]   Package punkt is already up-to-date!\n",
            "[nltk_data] Downloading package stopwords to /root/nltk_data...\n",
            "[nltk_data]   Package stopwords is already up-to-date!\n"
          ]
        },
        {
          "output_type": "execute_result",
          "data": {
            "text/plain": [
              "True"
            ]
          },
          "metadata": {},
          "execution_count": 3
        }
      ]
    },
    {
      "cell_type": "markdown",
      "source": [
        "**Importing our corpus and preprocessing**"
      ],
      "metadata": {
        "id": "NEhjvjM6bLJd"
      }
    },
    {
      "cell_type": "code",
      "execution_count": 4,
      "metadata": {
        "id": "XagMn4EKYQIB"
      },
      "outputs": [],
      "source": [
        "# Example usage\n",
        "file_path = '/content/drive/MyDrive/NLP/small_corpus.txt'\n",
        "with open(file_path, 'r', encoding='utf-8') as file:\n",
        "    text = file.read()"
      ]
    },
    {
      "cell_type": "code",
      "source": [
        "def extract_unique_words(text):\n",
        "  # Lowercase and tokenize the text\n",
        "  text = text.lower()\n",
        "  words = word_tokenize(text)\n",
        "\n",
        "  # Remove punctuation\n",
        "  words = [word for word in words if word.isalpha()]\n",
        "\n",
        "  # Count the number of words and unique words\n",
        "  print(\"# of words in the text: \",len(words))\n",
        "\n",
        "  unique_words = sorted(set(words))\n",
        "  print(\"# of unique words in the text: \",len(unique_words))\n",
        "\n",
        "  return unique_words"
      ],
      "metadata": {
        "id": "FAePpxIiZKky"
      },
      "execution_count": 5,
      "outputs": []
    },
    {
      "cell_type": "code",
      "source": [
        "unique_words = extract_unique_words(text)"
      ],
      "metadata": {
        "colab": {
          "base_uri": "https://localhost:8080/"
        },
        "id": "5RLZSSQ5cPC6",
        "outputId": "d1850363-cb76-4855-aa7a-9cf69e823237"
      },
      "execution_count": 6,
      "outputs": [
        {
          "output_type": "stream",
          "name": "stdout",
          "text": [
            "# of words in the text:  210000\n",
            "# of unique words in the text:  20\n"
          ]
        }
      ]
    },
    {
      "cell_type": "code",
      "source": [
        "def generate_cbows(text,window_size):\n",
        "  # Lowercase and tokenize the text\n",
        "  text = text.lower()\n",
        "  words = word_tokenize(text)\n",
        "\n",
        "  # Remove punctuation\n",
        "  words = [word for word in words if word.isalpha()]\n",
        "\n",
        "  # Remove stop words\n",
        "  stop_words = set(stopwords.words(\"english\"))\n",
        "  words = [word for word in words if word not in stop_words]\n",
        "\n",
        "  # Create CBOW pairs with a given window size\n",
        "  cbows = []\n",
        "  for i,target_word in enumerate(words):\n",
        "    context_words = words[max(0,i-window_size):i] + words[i+1:i+window_size+1]\n",
        "    if len(context_words) == window_size * 2:\n",
        "      cbows.append((context_words,target_word))\n",
        "  return cbows"
      ],
      "metadata": {
        "id": "MYRtED-vcUg7"
      },
      "execution_count": 7,
      "outputs": []
    },
    {
      "cell_type": "code",
      "source": [
        "# Create cbows\n",
        "cbows = generate_cbows(text, window_size=3)\n",
        "\n",
        "# Display the results\n",
        "for context_words, target_word in cbows[:3]:\n",
        "    print(f'Context Words: {context_words}, Target Word: {target_word}')"
      ],
      "metadata": {
        "colab": {
          "base_uri": "https://localhost:8080/"
        },
        "id": "abZf8H2IfuRt",
        "outputId": "ead5eb4c-35be-4831-c727-08f466b60914"
      },
      "execution_count": 8,
      "outputs": [
        {
          "output_type": "stream",
          "name": "stdout",
          "text": [
            "Context Words: ['house', 'sleep', 'cat', 'play', 'animal', 'dog'], Target Word: pet\n",
            "Context Words: ['sleep', 'cat', 'pet', 'animal', 'dog', 'dog'], Target Word: play\n",
            "Context Words: ['cat', 'pet', 'play', 'dog', 'dog', 'cat'], Target Word: animal\n"
          ]
        }
      ]
    },
    {
      "cell_type": "code",
      "source": [
        "len(cbows)"
      ],
      "metadata": {
        "colab": {
          "base_uri": "https://localhost:8080/"
        },
        "id": "doAYLlQZgGHA",
        "outputId": "03ddd268-38cb-41f9-dc87-26c622cddce9"
      },
      "execution_count": 9,
      "outputs": [
        {
          "output_type": "execute_result",
          "data": {
            "text/plain": [
              "209994"
            ]
          },
          "metadata": {},
          "execution_count": 9
        }
      ]
    },
    {
      "cell_type": "code",
      "source": [
        "def one_hot_encoding(word,unique_words):\n",
        "  encoding = [1 if word==w else 0 for w in unique_words]\n",
        "  return tf.convert_to_tensor(encoding,dtype=tf.float32)\n",
        "\n",
        "# Create one-hot encodings for each word\n",
        "one_hot_encodings = {word: one_hot_encoding(word,unique_words) for word in unique_words}"
      ],
      "metadata": {
        "id": "1AzKvFdDgMWN"
      },
      "execution_count": 10,
      "outputs": []
    },
    {
      "cell_type": "code",
      "source": [
        "one_hot_encodings[\"pet\"]"
      ],
      "metadata": {
        "colab": {
          "base_uri": "https://localhost:8080/"
        },
        "id": "5DkutFET1K7y",
        "outputId": "d3fbf2ed-b812-4afb-e68e-a6d3cea2b408"
      },
      "execution_count": 11,
      "outputs": [
        {
          "output_type": "execute_result",
          "data": {
            "text/plain": [
              "<tf.Tensor: shape=(20,), dtype=float32, numpy=\n",
              "array([0., 0., 0., 0., 0., 0., 0., 0., 0., 0., 0., 0., 0., 0., 0., 1., 0.,\n",
              "       0., 0., 0.], dtype=float32)>"
            ]
          },
          "metadata": {},
          "execution_count": 11
        }
      ]
    },
    {
      "cell_type": "code",
      "source": [
        "# Convert CBOW pairs to vector pairs\n",
        "cbow_vector_pairs = [([one_hot_encodings[word] for word in context_words],one_hot_encodings[target_word]) for context_words, target_word in cbows]"
      ],
      "metadata": {
        "id": "l4AxshHr1YeO"
      },
      "execution_count": 12,
      "outputs": []
    },
    {
      "cell_type": "code",
      "source": [
        "cbow_vector_pairs[0]"
      ],
      "metadata": {
        "colab": {
          "base_uri": "https://localhost:8080/"
        },
        "id": "bXxQ5cSE5VK7",
        "outputId": "8333aeb4-12bb-4c00-ec52-3b3313c730b5"
      },
      "execution_count": 13,
      "outputs": [
        {
          "output_type": "execute_result",
          "data": {
            "text/plain": [
              "([<tf.Tensor: shape=(20,), dtype=float32, numpy=\n",
              "  array([0., 0., 0., 0., 0., 0., 0., 0., 0., 0., 0., 1., 0., 0., 0., 0., 0.,\n",
              "         0., 0., 0.], dtype=float32)>,\n",
              "  <tf.Tensor: shape=(20,), dtype=float32, numpy=\n",
              "  array([0., 0., 0., 0., 0., 0., 0., 0., 0., 0., 0., 0., 0., 0., 0., 0., 0.,\n",
              "         0., 0., 1.], dtype=float32)>,\n",
              "  <tf.Tensor: shape=(20,), dtype=float32, numpy=\n",
              "  array([0., 0., 0., 1., 0., 0., 0., 0., 0., 0., 0., 0., 0., 0., 0., 0., 0.,\n",
              "         0., 0., 0.], dtype=float32)>,\n",
              "  <tf.Tensor: shape=(20,), dtype=float32, numpy=\n",
              "  array([0., 0., 0., 0., 0., 0., 0., 0., 0., 0., 0., 0., 0., 0., 0., 0., 1.,\n",
              "         0., 0., 0.], dtype=float32)>,\n",
              "  <tf.Tensor: shape=(20,), dtype=float32, numpy=\n",
              "  array([1., 0., 0., 0., 0., 0., 0., 0., 0., 0., 0., 0., 0., 0., 0., 0., 0.,\n",
              "         0., 0., 0.], dtype=float32)>,\n",
              "  <tf.Tensor: shape=(20,), dtype=float32, numpy=\n",
              "  array([0., 0., 0., 0., 0., 0., 1., 0., 0., 0., 0., 0., 0., 0., 0., 0., 0.,\n",
              "         0., 0., 0.], dtype=float32)>],\n",
              " <tf.Tensor: shape=(20,), dtype=float32, numpy=\n",
              " array([0., 0., 0., 0., 0., 0., 0., 0., 0., 0., 0., 0., 0., 0., 0., 1., 0.,\n",
              "        0., 0., 0.], dtype=float32)>)"
            ]
          },
          "metadata": {},
          "execution_count": 13
        }
      ]
    },
    {
      "cell_type": "markdown",
      "source": [
        "**Converting the dataset to Tensorflow Dataset**"
      ],
      "metadata": {
        "id": "44r0eMta-w2k"
      }
    },
    {
      "cell_type": "code",
      "source": [
        "import tensorflow as tf\n",
        "import numpy as np\n",
        "import random\n",
        "\n",
        "class CustomDataset(tf.data.Dataset):\n",
        "  def __new__(cls,data,context_size):\n",
        "    # Changed how the data was formated to reflect the context size\n",
        "    inputs = np.array([[item for item in context] for context,_ in data])\n",
        "    outputs = np.array([target for _,target in data])\n",
        "    dataset = tf.data.Dataset.from_tensor_slices((inputs,outputs))\n",
        "    return dataset"
      ],
      "metadata": {
        "id": "cUDTmAHP-23B"
      },
      "execution_count": 14,
      "outputs": []
    },
    {
      "cell_type": "code",
      "source": [
        "# Shuffle pairs before training\n",
        "random.shuffle(cbow_vector_pairs)\n",
        "\n",
        "# Train-Test Split(90% - 10%)\n",
        "split_index = int(len(cbow_vector_pairs)*0.90)\n",
        "\n",
        "# Create TensorFlow datasets\n",
        "# We add the window size here as we need to know the context size\n",
        "train_dataset = CustomDataset(cbow_vector_pairs[:split_index],context_size=6)\n",
        "test_dataset = CustomDataset(cbow_vector_pairs[split_index:],context_size=6)\n",
        "\n",
        "# Set batch size\n",
        "# Changed from 64 to 8 to account for small size of data.\n",
        "batch_size = 64\n",
        "\n",
        "# Create DataLoader for training and validation sets\n",
        "train_dataloader = train_dataset.batch(batch_size).shuffle(buffer_size=1000)\n",
        "validation_dataloader = test_dataset.batch(batch_size)"
      ],
      "metadata": {
        "id": "fN-Ug0YzCNjf"
      },
      "execution_count": 15,
      "outputs": []
    },
    {
      "cell_type": "markdown",
      "source": [
        "**Naive Word2Vec Model**"
      ],
      "metadata": {
        "id": "h0-mIFCqf5aj"
      }
    },
    {
      "cell_type": "code",
      "source": [
        "class NaiveWord2Vec(tf.keras.Model):\n",
        "  def __init__(self,VOCAB_SIZE,VECTOR_DIM):\n",
        "    super(NaiveWord2Vec,self).__init__()\n",
        "    # Use Dense layers for W1 and W2 instead of tf.Variable\n",
        "    self.W1 = layers.Dense(VECTOR_DIM,input_shape=(VOCAB_SIZE,),use_bias=False) # Word Vectors. No Bias needed\n",
        "    self.W2 = layers.Dense(VOCAB_SIZE,use_bias=False) # Context Prediction. No Bias needed\n",
        "\n",
        "  def call(self,X):\n",
        "    # Sum the one-hot encodings for each context in the batch along the correct axis\n",
        "    # Changed the axis from 1 to 0 to reflect the context dimension\n",
        "    X = tf.reduce_sum(X, axis=1) #We are summing over the context dimension to get our word embedding\n",
        "    X = self.W1(X) # Convert one-hot to word embedding\n",
        "    X = self.W2(X)  # Convert embedding to context scores\n",
        "    return X  # Logits before softmax\n"
      ],
      "metadata": {
        "id": "1m6ONU9Z5Zbi"
      },
      "execution_count": 16,
      "outputs": []
    },
    {
      "cell_type": "markdown",
      "source": [
        "**Training the model**"
      ],
      "metadata": {
        "id": "LsRKvQw3f-91"
      }
    },
    {
      "cell_type": "code",
      "source": [
        "def train_model(model, train_dataloader, validation_dataloader, epochs, learning_rate, verbose=False):\n",
        "    # Loss function and optimizer\n",
        "    loss_fn = tf.keras.losses.CategoricalCrossentropy(from_logits=True)\n",
        "    optimizer = tf.keras.optimizers.Adam(learning_rate=learning_rate)\n",
        "\n",
        "    # Logs\n",
        "    train_set_loss_log = []\n",
        "    validation_set_loss_log = []\n",
        "\n",
        "    for epoch in range(epochs):\n",
        "        if verbose: print(\"Epoch:\", epoch)\n",
        "\n",
        "        # Training Loop\n",
        "        total_train_loss = 0.0\n",
        "        num_train_batches = 0\n",
        "\n",
        "        for inputs_batch, outputs_batch in train_dataloader:\n",
        "            with tf.GradientTape() as tape:\n",
        "                y_train_logits = model(inputs_batch)\n",
        "                train_loss = loss_fn(outputs_batch, y_train_logits)\n",
        "\n",
        "            # Compute gradients and update weights\n",
        "            gradients = tape.gradient(train_loss, model.trainable_variables)\n",
        "            optimizer.apply_gradients(zip(gradients, model.trainable_variables))\n",
        "\n",
        "            total_train_loss += train_loss.numpy()\n",
        "            num_train_batches += 1\n",
        "\n",
        "        # Compute average training loss\n",
        "        average_train_loss = total_train_loss / num_train_batches\n",
        "        train_set_loss_log.append(average_train_loss)\n",
        "\n",
        "        # Validation Loop\n",
        "        total_validation_loss = 0.0\n",
        "        num_validation_batches = 0\n",
        "\n",
        "        for inputs_batch, outputs_batch in validation_dataloader:\n",
        "            y_val_logits = model(inputs_batch)\n",
        "            validation_loss = loss_fn(outputs_batch, y_val_logits)\n",
        "\n",
        "            total_validation_loss += validation_loss.numpy()\n",
        "            num_validation_batches += 1\n",
        "\n",
        "        # Compute average validation loss\n",
        "        average_validation_loss = total_validation_loss / num_validation_batches\n",
        "        validation_set_loss_log.append(average_validation_loss)\n",
        "\n",
        "        if verbose:\n",
        "            print(f\"Train Loss: {average_train_loss:.4f} ||| Validation Loss: {average_validation_loss:.4f}\")\n",
        "\n",
        "    return model, train_set_loss_log, validation_set_loss_log"
      ],
      "metadata": {
        "id": "kXsPZVknL4TT"
      },
      "execution_count": 17,
      "outputs": []
    },
    {
      "cell_type": "code",
      "source": [
        "VOCAB_SIZE = len(unique_words)\n",
        "VECTOR_DIM = 2\n",
        "\n",
        "# Initialize Model\n",
        "model = NaiveWord2Vec(VOCAB_SIZE, VECTOR_DIM)\n",
        "\n",
        "# Train Model\n",
        "model, train_set_loss_log, validation_set_loss_log = train_model(model, train_dataloader, validation_dataloader,\n",
        "                                                                 epochs=3, learning_rate=0.01, verbose=True)\n"
      ],
      "metadata": {
        "colab": {
          "base_uri": "https://localhost:8080/"
        },
        "id": "G7IHX3X2LNyb",
        "outputId": "55c90c74-7636-425d-81a5-4afe7d4fb09a"
      },
      "execution_count": 23,
      "outputs": [
        {
          "output_type": "stream",
          "name": "stderr",
          "text": [
            "/usr/local/lib/python3.11/dist-packages/keras/src/layers/core/dense.py:87: UserWarning: Do not pass an `input_shape`/`input_dim` argument to a layer. When using Sequential models, prefer using an `Input(shape)` object as the first layer in the model instead.\n",
            "  super().__init__(activity_regularizer=activity_regularizer, **kwargs)\n"
          ]
        },
        {
          "output_type": "stream",
          "name": "stdout",
          "text": [
            "Epoch: 0\n",
            "Train Loss: 1.8988 ||| Validation Loss: 1.8613\n",
            "Epoch: 1\n",
            "Train Loss: 1.8583 ||| Validation Loss: 1.8541\n",
            "Epoch: 2\n",
            "Train Loss: 1.8560 ||| Validation Loss: 1.8497\n"
          ]
        }
      ]
    },
    {
      "cell_type": "code",
      "source": [
        "plt.plot(train_set_loss_log, color='red', label='train_loss')\n",
        "plt.plot(validation_set_loss_log, color='blue', label='validation_loss')\n",
        "\n",
        "plt.title(\"Loss During Training\")\n",
        "plt.xlabel(\"Epoch\")\n",
        "plt.ylabel(\"Cross Entropy\")\n",
        "plt.legend()\n",
        "plt.show()"
      ],
      "metadata": {
        "colab": {
          "base_uri": "https://localhost:8080/",
          "height": 472
        },
        "id": "nkK6fZEic2b8",
        "outputId": "066dd0a2-604c-49fb-9853-0856fc2fadc8"
      },
      "execution_count": 32,
      "outputs": [
        {
          "output_type": "display_data",
          "data": {
            "text/plain": [
              "<Figure size 640x480 with 1 Axes>"
            ],
            "image/png": "[encoded data removed]"
          },
          "metadata": {}
        }
      ]
    },
    {
      "cell_type": "code",
      "source": [
        "# Word Vectors\n",
        "#Changed to model.trainable_variables as this method exists\n",
        "params = model.trainable_variables\n",
        "# We take the first set of weights which are W1 in the model.\n",
        "word_vectors = params[0].numpy()\n",
        "\n",
        "# Create a dictionary with the same order mapping\n",
        "word_dict = {word: vector for word,vector in zip(unique_words,word_vectors)}"
      ],
      "metadata": {
        "id": "q1ZXNCyWL_zg"
      },
      "execution_count": 25,
      "outputs": []
    },
    {
      "cell_type": "code",
      "source": [
        "print(word_dict)"
      ],
      "metadata": {
        "colab": {
          "base_uri": "https://localhost:8080/"
        },
        "id": "XMHkBJ3IUvmP",
        "outputId": "ce32581c-dac4-40a3-9b02-8ca068187e4c"
      },
      "execution_count": 26,
      "outputs": [
        {
          "output_type": "stream",
          "name": "stdout",
          "text": [
            "{'animal': array([ 0.89841866, -4.2046027 ], dtype=float32), 'boy': array([1.0227545, 0.2884749], dtype=float32), 'castle': array([-0.36040527,  0.13475248], dtype=float32), 'cat': array([ 0.20875217, -0.953534  ], dtype=float32), 'country': array([-0.05772479,  0.16159487], dtype=float32), 'crown': array([-0.2564277 ,  0.09749014], dtype=float32), 'dog': array([ 0.1323337, -1.0403186], dtype=float32), 'empire': array([-1.5988265,  2.7341409], dtype=float32), 'family': array([1.4055238 , 0.35279757], dtype=float32), 'father': array([1.5558255 , 0.47039288], dtype=float32), 'girl': array([1.016589 , 0.2802662], dtype=float32), 'house': array([-1.1609197 ,  0.41400334], dtype=float32), 'king': array([-0.1761271 ,  0.21232796], dtype=float32), 'marriage': array([0.7724645 , 0.26959455], dtype=float32), 'mother': array([1.1893506 , 0.22959043], dtype=float32), 'pet': array([ 0.21179108, -0.8339276 ], dtype=float32), 'play': array([ 0.23208854, -0.8622652 ], dtype=float32), 'queen': array([-0.500156  , -0.17728803], dtype=float32), 'rule': array([-4.334034 , -0.9770412], dtype=float32), 'sleep': array([ 0.22929773, -0.9522888 ], dtype=float32)}\n"
          ]
        }
      ]
    },
    {
      "cell_type": "markdown",
      "source": [
        "**Evaluating the Word Vectors**"
      ],
      "metadata": {
        "id": "M2TQZWOAZT0x"
      }
    },
    {
      "cell_type": "code",
      "source": [
        "def cosine_similarity(v1,v2):\n",
        "  return (v1 @ v2)/(tf.norm(v1)*tf.norm(v2))\n",
        "\n",
        "def most_similar(word, word_dict, top_k=5):\n",
        "    if word not in word_dict:\n",
        "        raise ValueError(f\"{word} not found in the word dictionary.\")\n",
        "\n",
        "    query_vector = word_dict[word]\n",
        "\n",
        "    # Calculate cosine similarity with all other words in the dictionary\n",
        "    similarities = {}\n",
        "    for other_word, other_vector in word_dict.items():\n",
        "        if other_word != word:\n",
        "            similarity = cosine_similarity(query_vector, other_vector)\n",
        "            similarities[other_word] = similarity.numpy() # we need to call numpy as it returns a tensor\n",
        "\n",
        "    # Sort the words by similarity in descending order\n",
        "    sorted_similarities = sorted(similarities.items(), key=lambda x: x[1], reverse=True)\n",
        "\n",
        "    # Get the top-k most similar words\n",
        "    top_similar_words = sorted_similarities[:top_k]\n",
        "\n",
        "    return top_similar_words"
      ],
      "metadata": {
        "id": "WKYnBoL5WoD5"
      },
      "execution_count": 24,
      "outputs": []
    },
    {
      "cell_type": "code",
      "source": [
        "most_similar('dog', word_dict)"
      ],
      "metadata": {
        "colab": {
          "base_uri": "https://localhost:8080/"
        },
        "id": "Sexua8bWcEmQ",
        "outputId": "ff60a1f3-bddf-46e6-c07a-8e7aab06f8e9"
      },
      "execution_count": 27,
      "outputs": [
        {
          "output_type": "execute_result",
          "data": {
            "text/plain": [
              "[('animal', 0.9964755),\n",
              " ('cat', 0.9960423),\n",
              " ('sleep', 0.99398214),\n",
              " ('pet', 0.9925449),\n",
              " ('play', 0.9907114)]"
            ]
          },
          "metadata": {},
          "execution_count": 27
        }
      ]
    },
    {
      "cell_type": "code",
      "source": [
        "most_similar('father', word_dict)"
      ],
      "metadata": {
        "colab": {
          "base_uri": "https://localhost:8080/"
        },
        "id": "pD71o9TzcPsk",
        "outputId": "aab35666-478d-410e-ce7d-c04f91196a86"
      },
      "execution_count": 28,
      "outputs": [
        {
          "output_type": "execute_result",
          "data": {
            "text/plain": [
              "[('boy', 0.9998255),\n",
              " ('girl', 0.99969757),\n",
              " ('marriage', 0.9991104),\n",
              " ('family', 0.9988637),\n",
              " ('mother', 0.9947093)]"
            ]
          },
          "metadata": {},
          "execution_count": 28
        }
      ]
    },
    {
      "cell_type": "code",
      "source": [
        "most_similar('queen', word_dict)"
      ],
      "metadata": {
        "colab": {
          "base_uri": "https://localhost:8080/"
        },
        "id": "N0ZG7ZVBcS7Z",
        "outputId": "e7d19a0f-cc19-495d-8648-98935fb7eaf1"
      },
      "execution_count": 29,
      "outputs": [
        {
          "output_type": "execute_result",
          "data": {
            "text/plain": [
              "[('rule', 0.9929375),\n",
              " ('house', 0.7755537),\n",
              " ('castle', 0.7658425),\n",
              " ('crown', 0.76228726),\n",
              " ('king', 0.34461367)]"
            ]
          },
          "metadata": {},
          "execution_count": 29
        }
      ]
    },
    {
      "cell_type": "code",
      "source": [
        "cosine_similarity(word_dict['father'], word_dict['mother'])"
      ],
      "metadata": {
        "colab": {
          "base_uri": "https://localhost:8080/"
        },
        "id": "4bFdXglFcWmd",
        "outputId": "4e46e5e0-1ec3-4b2b-cd4f-865f535727c4"
      },
      "execution_count": 30,
      "outputs": [
        {
          "output_type": "execute_result",
          "data": {
            "text/plain": [
              "<tf.Tensor: shape=(), dtype=float32, numpy=0.994709312915802>"
            ]
          },
          "metadata": {},
          "execution_count": 30
        }
      ]
    },
    {
      "cell_type": "code",
      "source": [
        "cosine_similarity(word_dict['family'], word_dict['empire'])"
      ],
      "metadata": {
        "colab": {
          "base_uri": "https://localhost:8080/"
        },
        "id": "MynTdDtWcXoj",
        "outputId": "1e472fff-b77f-4003-c19a-47e0e48dc648"
      },
      "execution_count": 31,
      "outputs": [
        {
          "output_type": "execute_result",
          "data": {
            "text/plain": [
              "<tf.Tensor: shape=(), dtype=float32, numpy=-0.2794431149959564>"
            ]
          },
          "metadata": {},
          "execution_count": 31
        }
      ]
    },
    {
      "cell_type": "code",
      "source": [
        "x_coords, y_coords = zip(*[word_dict[word] for word in list(word_dict.keys())])\n",
        "\n",
        "plt.figure(figsize=(10, 8))\n",
        "plt.scatter(x_coords, y_coords, marker='o', color='blue')\n",
        "\n",
        "for i, word in enumerate(list(word_dict.keys())):\n",
        "    plt.annotate(word, (x_coords[i], y_coords[i]), textcoords=\"offset points\", xytext=(0, 5), ha='center')\n",
        "\n",
        "plt.title('Word Embeddings')\n",
        "plt.xlabel('Dimension 1')\n",
        "plt.ylabel('Dimension 2')\n",
        "plt.xlim(-2, 2)\n",
        "plt.ylim(-2, 2)\n",
        "plt.grid(True)\n",
        "plt.show()"
      ],
      "metadata": {
        "colab": {
          "base_uri": "https://localhost:8080/",
          "height": 525
        },
        "id": "IVVKv7zgcsLX",
        "outputId": "87e7ca69-fdad-483d-ed72-44d0ea3ad203"
      },
      "execution_count": 34,
      "outputs": [
        {
          "output_type": "display_data",
          "data": {
            "text/plain": [
              "<Figure size 1000x800 with 1 Axes>"
            ],
            "image/png": "[encoded data removed]"
          },
          "metadata": {}
        }
      ]
    },
    {
      "cell_type": "markdown",
      "source": [
        "**Export Word Vectors**"
      ],
      "metadata": {
        "id": "PavmAyJAd26e"
      }
    },
    {
      "cell_type": "code",
      "source": [
        "import json\n",
        "import numpy as np\n",
        "\n",
        "# Specify the file path where you want to save the JSON file\n",
        "file_path = 'pretrained_word_vectors.json'\n",
        "\n",
        "# Convert numpy.ndarray objects to lists\n",
        "word_vec_for_export = word_dict.copy()  # Create a copy to avoid modifying the original dictionary\n",
        "for key, value in word_vec_for_export.items():\n",
        "    if isinstance(value, np.ndarray): # We check to see if they are numpy arrays\n",
        "        word_vec_for_export[key] = value.tolist() #We turn it into a list.\n",
        "\n",
        "# Use json.dump to write the modified dictionary to a JSON file\n",
        "with open(file_path, 'w') as json_file:\n",
        "    json.dump(word_vec_for_export, json_file, indent=2) #We use the indent for readability\n",
        "\n",
        "print(f'Dictionary has been exported to {file_path}')"
      ],
      "metadata": {
        "colab": {
          "base_uri": "https://localhost:8080/"
        },
        "id": "GccYkdpIdADq",
        "outputId": "363db85d-50c1-46f6-cb96-e902ebc63781"
      },
      "execution_count": 35,
      "outputs": [
        {
          "output_type": "stream",
          "name": "stdout",
          "text": [
            "Dictionary has been exported to pretrained_word_vectors.json\n"
          ]
        }
      ]
    },
    {
      "cell_type": "code",
      "source": [
        "!cp pretrained_word_vectors.json /content/drive/MyDrive/NLP/pretrained_word_vectors.json"
      ],
      "metadata": {
        "id": "hdAxdfaue6I0"
      },
      "execution_count": 36,
      "outputs": []
    }
  ]
}